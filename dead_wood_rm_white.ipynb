{
 "cells": [
  {
   "cell_type": "code",
   "execution_count": 37,
   "metadata": {},
   "outputs": [],
   "source": [
    "# import the necessary packages\n",
    "from scipy.spatial import distance as dist\n",
    "from imutils import perspective\n",
    "from imutils import contours\n",
    "import numpy as np\n",
    "import argparse\n",
    "import imutils\n",
    "import cv2\n",
    "import matplotlib.pyplot as plt\n",
    "import os"
   ]
  },
  {
   "cell_type": "code",
   "execution_count": 69,
   "metadata": {},
   "outputs": [],
   "source": [
    "def midpoint(ptA, ptB):\n",
    "    return ((ptA[0] + ptB[0]) * 0.5, (ptA[1] + ptB[1]) * 0.5)\n",
    "\n",
    "#sepreate out the likely wood part by color, (find gray color)\n",
    "def wood_part(image, value_diff, maximum , minimum):\n",
    "    wood_im = image.copy()\n",
    "    height,width,depth = wood_im.shape\n",
    "    print(wood_im.shape)\n",
    "    for i in range(0,height):\n",
    "        for j in range(0,width):\n",
    "#             print(wood_im[i,j,:])\n",
    "            mini = wood_im[i,j,:].min()\n",
    "            maxi = wood_im[i,j,:].max()\n",
    "            blue = wood_im[i,j,0]\n",
    "            green = wood_im[i,j,1]\n",
    "            red = wood_im[i,j,2]\n",
    "            #for gray color\n",
    "            if (mini > minimum and (maxi - mini < value_diff) and maxi < maximum):\n",
    "                continue\n",
    "#                 print(wood_im[i,j,:])\n",
    "            #for brown color\n",
    "            elif ((red > 80 and red < 240) \n",
    "                     and (red > green + 15 and red < green + 45) \n",
    "                     and (green > blue+15 and green < blue +45)):\n",
    "                continue\n",
    "            else:\n",
    "                wood_im[i,j,:] = (0,0,0)\n",
    "\n",
    "    return wood_im\n",
    "# #sepreate out the likely wood part by color, (find gray color)\n",
    "# def wood_part(image, value_diff, maximum , minimum):\n",
    "#     wood_im = image.copy()\n",
    "#     height,width,depth = wood_im.shape\n",
    "#     print(wood_im.shape)\n",
    "#     for i in range(0,height):\n",
    "#         for j in range(0,width):\n",
    "# #             print(wood_im[i,j,:])\n",
    "#             mini = wood_im[i,j,:].min()\n",
    "#             maxi = wood_im[i,j,:].max()\n",
    "# #             print(mini)\n",
    "# #             print(maxi)\n",
    "#             if (mini > minimum and (maxi - mini < value_diff) and maxi < maximum):\n",
    "#                 continue\n",
    "# #                 print(wood_im[i,j,:])\n",
    "#             else:\n",
    "#                 wood_im[i,j,:] = (0,0,0)\n",
    "\n",
    "#     return wood_im\n",
    "\n",
    "\n",
    "#noise removal of gray image\n",
    "def noise_remove(image):\n",
    "    image_out = image.copy()\n",
    "    image_out = cv2.GaussianBlur(image_out, (3, 3), cv2.THRESH_BINARY)\n",
    "    # gray = cv2.equalizeHist(gray)\n",
    "#     plt.imshow(image_out,'gray')\n",
    "#     plt.show()\n",
    "\n",
    "    img_bw = image_out.copy()\n",
    "\n",
    "    se1 = cv2.getStructuringElement(cv2.MORPH_RECT, (15,15))\n",
    "    se2 = cv2.getStructuringElement(cv2.MORPH_RECT, (2,2))\n",
    "\n",
    "    mask = cv2.morphologyEx(image_out, cv2.MORPH_OPEN, se1)\n",
    "    out = image_out * mask\n",
    "#     plt.imshow(out,'gray')\n",
    "#     plt.show()\n",
    "\n",
    "    mask = cv2.morphologyEx(mask, cv2.MORPH_CLOSE, se2)\n",
    "    out = out * mask\n",
    "    return out\n",
    "\n",
    "#draw contours on original image\n",
    "def draw_controus_box(binary_image,original_image):\n",
    "    cnts = cv2.findContours(binary_image.copy(), cv2.CHAIN_APPROX_NONE, cv2.CHAIN_APPROX_SIMPLE)\n",
    "    cnts = imutils.grab_contours(cnts)\n",
    "    \n",
    "    orig = original_image.copy()\n",
    "    # loop over the contours individually\n",
    "    for c in cnts:\n",
    "        # if the contour is not sufficiently large, ignore it\n",
    "        if cv2.contourArea(c) < 2500:\n",
    "            continue\n",
    "        # compute the rotated bounding box of the contour\n",
    "\n",
    "        box = cv2.minAreaRect(c)\n",
    "    #     print(box)\n",
    "        box = cv2.cv.BoxPoints(box) if imutils.is_cv2() else cv2.boxPoints(box)\n",
    "        box = np.array(box, dtype=\"int\")\n",
    "    #     # order the points in the contour such that they appear\n",
    "    #     # in top-left, top-right, bottom-right, and bottom-left\n",
    "    #     # order, then draw the outline of the rotated bounding\n",
    "    #     # box\n",
    "    #     box = perspective.order_points(box)\n",
    "        cv2.drawContours(orig, [box.astype(\"int\")], -1, (0, 255, 0), 2)\n",
    "        # loop over the original points and draw them\n",
    "        for (x, y) in box:\n",
    "            cv2.circle(orig, (int(x), int(y)), 5, (0, 0, 255), -1)\n",
    "        # unpack the ordered bounding box, then compute the midpoint\n",
    "        # between the top-left and top-right coordinates, followed by\n",
    "        # the midpoint between bottom-left and bottom-right coordinates\n",
    "        (tl, tr, br, bl) = box\n",
    "        (tltrX, tltrY) = midpoint(tl, tr)\n",
    "        (blbrX, blbrY) = midpoint(bl, br)\n",
    "        # compute the midpoint between the top-left and top-right points,\n",
    "        # followed by the midpoint between the top-righ and bottom-right\n",
    "        (tlblX, tlblY) = midpoint(tl, bl)\n",
    "        (trbrX, trbrY) = midpoint(tr, br)\n",
    "        # draw the midpoints on the image\n",
    "        cv2.circle(orig, (int(tltrX), int(tltrY)), 5, (255, 0, 0), -1)\n",
    "        cv2.circle(orig, (int(blbrX), int(blbrY)), 5, (255, 0, 0), -1)\n",
    "        cv2.circle(orig, (int(tlblX), int(tlblY)), 5, (255, 0, 0), -1)\n",
    "        cv2.circle(orig, (int(trbrX), int(trbrY)), 5, (255, 0, 0), -1)\n",
    "        # draw lines between the midpoints\n",
    "        cv2.line(orig, (int(tltrX), int(tltrY)), (int(blbrX), int(blbrY)),\n",
    "            (255, 0, 255), 2)\n",
    "        cv2.line(orig, (int(tlblX), int(tlblY)), (int(trbrX), int(trbrY)),\n",
    "            (255, 0, 255), 2)\n",
    "\n",
    "    print(\"boxed contours\")\n",
    "#     plt.imshow(orig)\n",
    "#     plt.show()\n",
    "    \n",
    "#draw contours and remove small contours \n",
    "#return filled contour for area calculation\n",
    "def draw_contours(binary_image):\n",
    "    dx, dy = binary_image.shape\n",
    "    cnts = cv2.findContours(binary_image.copy(), cv2.CHAIN_APPROX_NONE, cv2.CHAIN_APPROX_SIMPLE)\n",
    "    cnts = imutils.grab_contours(cnts)\n",
    "    test = np.zeros((dx, dy),dtype=np.uint8)\n",
    "    filled = np.zeros((dx, dy),dtype=np.uint8)\n",
    "    counter = 0\n",
    "    orig = test\n",
    "    # loop over the contours individually\n",
    "    for c in cnts:\n",
    "        # if the contour is not sufficiently large, ignore it\n",
    "        if cv2.contourArea(c) < 500:\n",
    "            continue\n",
    "        counter = counter +1\n",
    "#         orig = cv2.drawContours(orig, c, -1, (255, 255,255), 2)\n",
    "        cv2.fillPoly(filled, pts = [c], color=(255,255,255)) \n",
    "\n",
    "#     print(counter)\n",
    "#     plt.imshow(out,'gray')\n",
    "#     plt.show()\n",
    "\n",
    "#     plt.imshow(orig,'gray')\n",
    "#     plt.show()\n",
    "\n",
    "#     plt.imshow(filled,'gray')\n",
    "#     plt.show()\n",
    "\n",
    "    test = np.zeros((dx, dy),dtype=np.uint8)\n",
    "    test = cv2.drawContours(test, cnts, -1, (255, 255,255), 2)\n",
    "#     plt.imshow(test)\n",
    "#     plt.show()\n",
    "    return filled\n",
    "\n",
    "def white_area_cal_percentage(gray_image):\n",
    "    white_area = gray_image.sum()/255\n",
    "    dx,dy = gray_image.shape\n",
    "    return white_area/(dx*dy)*100\n"
   ]
  },
  {
   "cell_type": "code",
   "execution_count": 61,
   "metadata": {
    "scrolled": false
   },
   "outputs": [
    {
     "name": "stdout",
     "output_type": "stream",
     "text": [
      "--------start process--------\n",
      "-----------------------------\n",
      "processing  0.0%\n",
      "(3024, 4032, 3)\n"
     ]
    },
    {
     "data": {
      "image/png": "[encoded data removed]",
      "text/plain": [
       "<Figure size 432x288 with 1 Axes>"
      ]
     },
     "metadata": {
      "needs_background": "light"
     },
     "output_type": "display_data"
    },
    {
     "name": "stdout",
     "output_type": "stream",
     "text": [
      "processing  0.005291005291005291%\n",
      "(4032, 3024, 3)\n"
     ]
    },
    {
     "data": {
      "image/png": "[encoded data removed]",
      "text/plain": [
       "<Figure size 432x288 with 1 Axes>"
      ]
     },
     "metadata": {
      "needs_background": "light"
     },
     "output_type": "display_data"
    }
   ],
   "source": [
    "# def main():\n",
    "    #parameters\n",
    "    \n",
    "print(\"--------start process--------\")\n",
    "print(\"-----------------------------\")\n",
    "\n",
    "#read files \n",
    "output_image_path = \"/home/linjian/projects/ground_fuel/data/DeadWoodExtracted/\"\n",
    "images_path = \"/home/linjian/projects/ground_fuel/data/SamplePhotos/\"\n",
    "wood_area_path = \"/home/linjian/projects/ground_fuel/data/WoodArea.txt\"\n",
    "images_list = sorted(os.listdir(images_path))\n",
    "\n",
    "f = open(wood_area_path,\"w+\")\n",
    "image_size = len(images_list)\n",
    "for i in range(image_size):\n",
    "# for i in range(2):\n",
    "    if(images_list[i].endswith(\".jpg\")):\n",
    "        dir_in = images_path+images_list[i]\n",
    "        dir_out = output_image_path+images_list[i]\n",
    "        print(\"processing  \" + str(i/image_size) + \"%\")\n",
    "        #read image \n",
    "        image = cv2.imread(dir_in)\n",
    "        \n",
    "        #find dead wood region\n",
    "        #by experiences the dead wood part normally (gray color) have close rgb value max-min ~<10    wood_pre = wood_part(image,10,230,65)\n",
    "        wood_pre = wood_part(image,15,205,55)\n",
    "        \n",
    "        #convert to gray scale and remove noise\n",
    "        gray = cv2.cvtColor(wood_pre, cv2.COLOR_RGB2GRAY)\n",
    "        gray_out = noise_remove(gray)\n",
    "        \n",
    "        #draw filled contour\n",
    "        filled = draw_contours(gray_out)\n",
    "        cv2.imwrite(dir_out, filled)\n",
    "        #calculate percentage of dead wood\n",
    "        area_percent = white_area_cal_percentage(filled)\n",
    "        \n",
    "        f.write(images_list[i])\n",
    "        f.write(\"   \")\n",
    "        f.write(str(area_percent) + \"%\" + \"\\n\")\n",
    "f.close()\n",
    "\n"
   ]
  },
  {
   "cell_type": "code",
   "execution_count": 70,
   "metadata": {},
   "outputs": [
    {
     "data": {
      "image/png": "[encoded data removed]",
      "text/plain": [
       "<Figure size 432x288 with 1 Axes>"
      ]
     },
     "metadata": {
      "needs_background": "light"
     },
     "output_type": "display_data"
    },
    {
     "name": "stdout",
     "output_type": "stream",
     "text": [
      "1.3014518114344504\n"
     ]
    }
   ],
   "source": [
    "# filled = draw_contours(gray_out)\n",
    "# area_percent = white_area_cal_percentage(filled)\n",
    "# print(area_percent)"
   ]
  },
  {
   "cell_type": "code",
   "execution_count": null,
   "metadata": {},
   "outputs": [],
   "source": [
    "# #read image \n",
    "# #     image = cv2.imread('ground-fuel-example3.jpg')\n",
    "# image = cv2.imread('19-PM42123427-2Dc.jpg')\n",
    "# # image = cv2.imread('19-PM42653427-1Db.jpg')\n",
    "# plt.imshow(image)\n",
    "# plt.show()\n",
    "# #     dx,dy,dc = image.shape\n",
    "\n",
    "# #find dead wood region\n",
    "# #by experiences the dead wood part normally (gray color) have close rgb value max-min ~<10    wood_pre = wood_part(image,10,230,65)\n",
    "# wood_pre = wood_part(image,12,205,55)\n",
    "# print(\"dead wood region computing\")\n",
    "# plt.imshow(wood_pre)\n",
    "# plt.show()\n",
    "\n",
    "# #convert to gray scale and remove noise\n",
    "# image = wood_pre.copy()\n",
    "# gray = cv2.cvtColor(image, cv2.COLOR_RGB2GRAY)\n",
    "# out = noise_remove(gray)\n",
    "# print(\"gray scale, noise removed image\")\n",
    "# plt.imshow(out)\n",
    "# plt.show()\n",
    "\n",
    "# # #draw contour\n",
    "# # draw_controus_box(out,image)\n",
    "\n",
    "# #draw filled contour\n",
    "# filled = draw_contours(out)\n",
    "\n",
    "# #calculate percentage of dead wood\n",
    "# area_percent = white_area_cal_percentage(filled)\n",
    "# print(area_percent,\"%\")"
   ]
  },
  {
   "cell_type": "code",
   "execution_count": 5,
   "metadata": {},
   "outputs": [],
   "source": [
    "# if __name__ == \"__main__\":\n",
    "#     main()"
   ]
  },
  {
   "cell_type": "code",
   "execution_count": 56,
   "metadata": {},
   "outputs": [],
   "source": [
    "# #read files \n",
    "# output_image_path = \"/home/linjian/projects/ground_fuel/data/DeadWoodExtracted/\"\n",
    "# images_path = \"/home/linjian/projects/ground_fuel/data/SamplePhotos/\"\n",
    "# wood_area_path = \"/home/linjian/projects/ground_fuel/data/WoodArea.txt\"\n",
    "# images_list = sorted(os.listdir(images_path))\n",
    "\n",
    "# f = open(wood_area_path,\"w+\")\n",
    "# # for i in range(len(images_list)):\n",
    "# for i in range(10):\n",
    "#     if(images_list[i].endswith(\".jpg\")):\n",
    "#         dir_in = images_path+images_list[i]\n",
    "#         dir_out = outpu_image_path+images_list[i]\n",
    "#         image = cv2.imread(dir_in)\n",
    "#         cv2.imwrite(dir_out, image) \n",
    "        \n",
    "#         f.write(images_list[i])\n",
    "#         f.write(\"   \")\n",
    "#         f.write(str(area_percent) + \"%\" + \"\\n\")\n",
    "# #         break\n",
    "# f.close()"
   ]
  },
  {
   "cell_type": "code",
   "execution_count": 7,
   "metadata": {},
   "outputs": [],
   "source": [
    "\n",
    "# image = wood_pre.copy()\n",
    "# gray = cv2.cvtColor(image, cv2.COLOR_RGB2GRAY)\n",
    "# out = noise_remove(gray)"
   ]
  },
  {
   "cell_type": "code",
   "execution_count": 8,
   "metadata": {},
   "outputs": [],
   "source": [
    "\n",
    "# draw_controus_box(out,image)"
   ]
  },
  {
   "cell_type": "code",
   "execution_count": 9,
   "metadata": {},
   "outputs": [],
   "source": [
    "\n",
    "# filled = draw_contours(out)"
   ]
  },
  {
   "cell_type": "code",
   "execution_count": 10,
   "metadata": {},
   "outputs": [],
   "source": [
    "\n",
    "# print(white_area_cal_percentage(filled),\"%\")"
   ]
  }
 ],
 "metadata": {
  "kernelspec": {
   "display_name": "Python 3",
   "language": "python",
   "name": "python3"
  },
  "language_info": {
   "codemirror_mode": {
    "name": "ipython",
    "version": 3
   },
   "file_extension": ".py",
   "mimetype": "text/x-python",
   "name": "python",
   "nbconvert_exporter": "python",
   "pygments_lexer": "ipython3",
   "version": "3.6.9"
  }
 },
 "nbformat": 4,
 "nbformat_minor": 4
}
